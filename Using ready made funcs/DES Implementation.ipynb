{
 "cells": [
  {
   "cell_type": "markdown",
   "id": "3cd16899",
   "metadata": {},
   "source": [
    "## NETW1002 Systems and Network Security\n",
    "## Assignment one\n",
    "---------------------------\n",
    "* Mohamed Abdelmaksoud\n",
    "* Abdelrahman Gelany\n",
    "* Mohamed Diaa"
   ]
  },
  {
   "cell_type": "markdown",
   "id": "81f28b80",
   "metadata": {},
   "source": [
    "======================================================================================================================"
   ]
  },
  {
   "cell_type": "markdown",
   "id": "aabd872c",
   "metadata": {},
   "source": [
    "### Implementation of the <font color=greenish> DES </font> algorithm in Python with <font color=violet> ECB </font> and <font color=violet> CBC </font> modes of operation\n",
    "1. **used links**\n",
    ">>*[Link 1](https://gist.github.com/BlackRabbit-github/2924939)*\n",
    ">>*[Link 2](https://towardsdatascience.com/encrypt-and-decrypt-files-using-python-python-programming-pyshark-a67774bbf9f4)*\n",
    ">>*[link 3](https://www.delftstack.com/howto/python/python-convert-byte-to-hex/)*\n",
    ">>*[link 4](https://www.delftstack.com/howto/python/python-convert-hex-to-byte/)*\n",
    "\n",
    "2. **useful links**\n",
    ">>*[Link 5](https://gist.github.com/kurtbrose/3921909)*\n",
    ">>*[Link 6](https://www.geeksforgeeks.org/data-encryption-standard-des-set-1/#:~:text=DES%20is%20a%20block%20cipher,key%20length%20is%2056%20bits.)*\n",
    ">>*[Link 7](https://www.codegrepper.com/code-examples/python/base64+string+to+byte+array+python)*"
   ]
  },
  {
   "cell_type": "markdown",
   "id": "3102cc71",
   "metadata": {},
   "source": [
    "#### Library Installing and Importing"
   ]
  },
  {
   "cell_type": "code",
   "execution_count": 2,
   "id": "733bde60",
   "metadata": {},
   "outputs": [
    {
     "name": "stdout",
     "output_type": "stream",
     "text": [
      "Requirement already satisfied: pyDes in c:\\users\\mohamed abdekmaksoud\\anaconda3\\lib\\site-packages (2.0.1)\n"
     ]
    }
   ],
   "source": [
    "!pip install pyDes"
   ]
  },
  {
   "cell_type": "code",
   "execution_count": 3,
   "id": "51fd62e3",
   "metadata": {},
   "outputs": [],
   "source": [
    "from pyDes import *\n",
    "import base64"
   ]
  },
  {
   "cell_type": "markdown",
   "id": "98e4153e",
   "metadata": {},
   "source": [
    "#### Testing"
   ]
  },
  {
   "cell_type": "code",
   "execution_count": 4,
   "id": "dd00b66f",
   "metadata": {},
   "outputs": [
    {
     "name": "stdout",
     "output_type": "stream",
     "text": [
      "b'RODRYGOS'\n",
      "524f445259474f53\n"
     ]
    }
   ],
   "source": [
    "# string_to_hex_utf8.py\n",
    "\n",
    " \n",
    "\n",
    "# convert the string to the bytes\n",
    "\n",
    "str= 'RODRYGOS'.encode('utf-8')\n",
    "\n",
    " \n",
    "\n",
    "# print the converted string to bytes\n",
    "\n",
    "print(str)\n",
    "\n",
    " \n",
    "\n",
    "# convert the string bytes to the hexadecimal string\n",
    "\n",
    "hex_str = str.hex()\n",
    "\n",
    " \n",
    "\n",
    "# print the converted hexadecimal value type\n",
    "\n",
    "print(hex_str)"
   ]
  },
  {
   "cell_type": "code",
   "execution_count": null,
   "id": "ba4880c5",
   "metadata": {},
   "outputs": [],
   "source": []
  },
  {
   "cell_type": "code",
   "execution_count": null,
   "id": "bf7ce9b0",
   "metadata": {},
   "outputs": [],
   "source": []
  },
  {
   "cell_type": "code",
   "execution_count": 5,
   "id": "d057ff8a",
   "metadata": {},
   "outputs": [
    {
     "data": {
      "text/plain": [
       "str"
      ]
     },
     "execution_count": 5,
     "metadata": {},
     "output_type": "execute_result"
    }
   ],
   "source": [
    "import binascii\n",
    "str_val = 'A quick brown fox'.encode('utf-8')\n",
    "hex_val = binascii.hexlify(str_val).decode('utf-8')\n",
    "\n",
    "type(hex_val)"
   ]
  },
  {
   "cell_type": "code",
   "execution_count": 6,
   "id": "b97f38db",
   "metadata": {},
   "outputs": [
    {
     "ename": "TypeError",
     "evalue": "'str' object cannot be interpreted as an integer",
     "output_type": "error",
     "traceback": [
      "\u001b[1;31m---------------------------------------------------------------------------\u001b[0m",
      "\u001b[1;31mTypeError\u001b[0m                                 Traceback (most recent call last)",
      "\u001b[1;32m<ipython-input-6-38ec7492a2d5>\u001b[0m in \u001b[0;36m<module>\u001b[1;34m\u001b[0m\n\u001b[1;32m----> 1\u001b[1;33m \u001b[0mhex_string\u001b[0m \u001b[1;33m=\u001b[0m \u001b[0mhex\u001b[0m\u001b[1;33m(\u001b[0m\u001b[1;34m\"524f445259474f53\"\u001b[0m\u001b[1;33m)\u001b[0m\u001b[1;33m\u001b[0m\u001b[1;33m\u001b[0m\u001b[0m\n\u001b[0m\u001b[0;32m      2\u001b[0m \u001b[0mhex_string\u001b[0m\u001b[1;33m.\u001b[0m\u001b[0mdecode\u001b[0m\u001b[1;33m(\u001b[0m\u001b[1;34m\"hex\"\u001b[0m\u001b[1;33m)\u001b[0m\u001b[1;33m\u001b[0m\u001b[1;33m\u001b[0m\u001b[0m\n\u001b[0;32m      3\u001b[0m \u001b[0mprint\u001b[0m\u001b[1;33m(\u001b[0m\u001b[0mhex_string\u001b[0m\u001b[1;33m)\u001b[0m\u001b[1;33m\u001b[0m\u001b[1;33m\u001b[0m\u001b[0m\n",
      "\u001b[1;31mTypeError\u001b[0m: 'str' object cannot be interpreted as an integer"
     ]
    }
   ],
   "source": [
    "hex_string = hex(\"524f445259474f53\")\n",
    "hex_string.decode(\"hex\")\n",
    "print(hex_string)"
   ]
  },
  {
   "cell_type": "code",
   "execution_count": null,
   "id": "c5143375",
   "metadata": {},
   "outputs": [],
   "source": [
    "print(('RODRYGOS'.encode('utf-8')).hex())\n",
    "type(('RODRYGOS'.encode('utf-8')).hex())\n",
    "#convert\n",
    "print(bytes.fromhex('524f445259474f53'))\n",
    "print(type(bytes.fromhex('524f445259474f53')))"
   ]
  },
  {
   "cell_type": "code",
   "execution_count": null,
   "id": "ac259e87",
   "metadata": {},
   "outputs": [],
   "source": [
    "print(bytes.fromhex('524f445259474f53'))"
   ]
  },
  {
   "cell_type": "code",
   "execution_count": 7,
   "id": "f37a4f06",
   "metadata": {},
   "outputs": [
    {
     "data": {
      "text/plain": [
       "34"
      ]
     },
     "execution_count": 7,
     "metadata": {},
     "output_type": "execute_result"
    }
   ],
   "source": [
    "len(\"4120717569636b2062726f776e20666f78\")"
   ]
  },
  {
   "cell_type": "code",
   "execution_count": 8,
   "id": "4cd240c2",
   "metadata": {},
   "outputs": [
    {
     "data": {
      "text/plain": [
       "64"
      ]
     },
     "execution_count": 8,
     "metadata": {},
     "output_type": "execute_result"
    }
   ],
   "source": [
    "len(\"BqFtM8tcJdzyL69jLqVhnTYpnDrrk6UCGB84hygLcTZOHSD9XYB6Fef3pkYBBzf2\")"
   ]
  },
  {
   "cell_type": "code",
   "execution_count": 9,
   "id": "6a468dca",
   "metadata": {},
   "outputs": [
    {
     "data": {
      "text/plain": [
       "48"
      ]
     },
     "execution_count": 9,
     "metadata": {},
     "output_type": "execute_result"
    }
   ],
   "source": [
    "len(\"\\x06\\xa1m3\\xcb\\\\%\\xdc\\xf2/\\xafc.\\xa5a\\x9d6)\\x9c:\\xeb\\x93\\xa5\\x02\\x18\\x1f8\\x87(\\x0bq6N\\x1d \\xfd]\\x80z\\x15\\xa99\\xbc\\xf6\\xb7a\\xdd\\x15\")"
   ]
  },
  {
   "cell_type": "code",
   "execution_count": 10,
   "id": "92da04b5",
   "metadata": {},
   "outputs": [
    {
     "data": {
      "text/plain": [
       "bytes"
      ]
     },
     "execution_count": 10,
     "metadata": {},
     "output_type": "execute_result"
    }
   ],
   "source": [
    "type(b\"\\0\\0\\0\\0\\0\\0\\0\\0\")"
   ]
  },
  {
   "cell_type": "code",
   "execution_count": 11,
   "id": "51042830",
   "metadata": {},
   "outputs": [
    {
     "data": {
      "text/plain": [
       "b'ZGF0YSB0byBiZSBlbmNvZGVk'"
      ]
     },
     "execution_count": 11,
     "metadata": {},
     "output_type": "execute_result"
    }
   ],
   "source": [
    "base64.b64encode(b'data to be encoded')"
   ]
  },
  {
   "cell_type": "code",
   "execution_count": 12,
   "id": "bcb0674f",
   "metadata": {},
   "outputs": [
    {
     "name": "stdout",
     "output_type": "stream",
     "text": [
      "0000000000000000\n"
     ]
    },
    {
     "data": {
      "text/plain": [
       "b'\\x00\\x00\\x00\\x00\\x00\\x00\\x00\\x00'"
      ]
     },
     "execution_count": 12,
     "metadata": {},
     "output_type": "execute_result"
    }
   ],
   "source": [
    "#convert String to Hex\n",
    "print(('\\0\\0\\0\\0\\0\\0\\0\\0'.encode('utf-8')).hex())\n",
    "bytes.fromhex('0000000000000000')"
   ]
  },
  {
   "cell_type": "code",
   "execution_count": 13,
   "id": "fb4e182e",
   "metadata": {},
   "outputs": [
    {
     "data": {
      "text/plain": [
       "41"
      ]
     },
     "execution_count": 13,
     "metadata": {},
     "output_type": "execute_result"
    }
   ],
   "source": [
    "len(\"Real Madrid is the best club in the world\")"
   ]
  },
  {
   "cell_type": "code",
   "execution_count": 14,
   "id": "47765fb3",
   "metadata": {},
   "outputs": [
    {
     "data": {
      "text/plain": [
       "64"
      ]
     },
     "execution_count": 14,
     "metadata": {},
     "output_type": "execute_result"
    }
   ],
   "source": [
    "len(\"BqFtM8tcJdzyL69jLqVhnTYpnDrrk6UCGB84hygLcTZOHSD9XYB6Fef3pkYBBzf2\")"
   ]
  },
  {
   "cell_type": "code",
   "execution_count": 15,
   "id": "e0301398",
   "metadata": {},
   "outputs": [
    {
     "data": {
      "text/plain": [
       "64"
      ]
     },
     "execution_count": 15,
     "metadata": {},
     "output_type": "execute_result"
    }
   ],
   "source": [
    "len(\"BqFtM8tcJdzyL69jLqVhnTYpnDrrk6UCGB84hygLcTZOHSD9XYB6Fak5vPa3Yd0V\")"
   ]
  },
  {
   "cell_type": "code",
   "execution_count": 16,
   "id": "d5173112",
   "metadata": {},
   "outputs": [
    {
     "data": {
      "text/plain": [
       "64"
      ]
     },
     "execution_count": 16,
     "metadata": {},
     "output_type": "execute_result"
    }
   ],
   "source": [
    "len(\"BqFtM8tcJdzyL69jLqVhnTYpnDrrk6UCGB84hygLcTZOHSD9XYB6Fak5vPa3Yd0V\")"
   ]
  },
  {
   "cell_type": "code",
   "execution_count": 17,
   "id": "02cb3cde",
   "metadata": {},
   "outputs": [
    {
     "data": {
      "text/plain": [
       "80"
      ]
     },
     "execution_count": 17,
     "metadata": {},
     "output_type": "execute_result"
    }
   ],
   "source": [
    "len(\"80e51036fa7e8cdd0baaea22a981ca319d0a5af2848a65c0efe852d017ce26bb43f8e98e352dcd2c\")"
   ]
  },
  {
   "cell_type": "code",
   "execution_count": 18,
   "id": "bb26bc23",
   "metadata": {},
   "outputs": [
    {
     "data": {
      "text/plain": [
       "32"
      ]
     },
     "execution_count": 18,
     "metadata": {},
     "output_type": "execute_result"
    }
   ],
   "source": [
    "len(\"b85TZWbmpo+CmMdW0EncAx6X5JkmB5xJ\")"
   ]
  },
  {
   "cell_type": "code",
   "execution_count": 19,
   "id": "8ee3a5ca",
   "metadata": {},
   "outputs": [
    {
     "data": {
      "text/plain": [
       "64"
      ]
     },
     "execution_count": 19,
     "metadata": {},
     "output_type": "execute_result"
    }
   ],
   "source": [
    "len(\"gOUQNvp+jN0LquoiqYHKMZ0KWvKEimXA7+hS0BfOJrtD+OmONS3NLAvrBEbYe7ku\")"
   ]
  },
  {
   "cell_type": "code",
   "execution_count": 20,
   "id": "97e36b93",
   "metadata": {},
   "outputs": [
    {
     "data": {
      "text/plain": [
       "64"
      ]
     },
     "execution_count": 20,
     "metadata": {},
     "output_type": "execute_result"
    }
   ],
   "source": [
    "len(\"gOUQNvp+jN0LquoiqYHKMZ0KWvKEimXA7+hS0BfOJrtD+OmONS3NLNoN5JB+YiJJ\")"
   ]
  },
  {
   "cell_type": "code",
   "execution_count": 21,
   "id": "da332aaf",
   "metadata": {},
   "outputs": [
    {
     "data": {
      "text/plain": [
       "48"
      ]
     },
     "execution_count": 21,
     "metadata": {},
     "output_type": "execute_result"
    }
   ],
   "source": [
    "len(\"\\x06\\xa1m3\\xcb\\\\%\\xdc\\xf2/\\xafc.\\xa5a\\x9d6)\\x9c:\\xeb\\x93\\xa5\\x02\\x18\\x1f8\\x87(\\x0bq6N\\x1d \\xfd]\\x80z\\x15\\xa99\\xbc\\xf6\\xb7a\\xdd\\x15\")"
   ]
  },
  {
   "cell_type": "code",
   "execution_count": 22,
   "id": "47b53252",
   "metadata": {},
   "outputs": [
    {
     "ename": "NameError",
     "evalue": "name 'd' is not defined",
     "output_type": "error",
     "traceback": [
      "\u001b[1;31m---------------------------------------------------------------------------\u001b[0m",
      "\u001b[1;31mNameError\u001b[0m                                 Traceback (most recent call last)",
      "\u001b[1;32m<ipython-input-22-c564ca7a9340>\u001b[0m in \u001b[0;36m<module>\u001b[1;34m\u001b[0m\n\u001b[1;32m----> 1\u001b[1;33m \u001b[0md\u001b[0m\u001b[1;33m.\u001b[0m\u001b[0mhex\u001b[0m\u001b[1;33m(\u001b[0m\u001b[1;33m)\u001b[0m\u001b[1;33m\u001b[0m\u001b[1;33m\u001b[0m\u001b[0m\n\u001b[0m",
      "\u001b[1;31mNameError\u001b[0m: name 'd' is not defined"
     ]
    }
   ],
   "source": [
    "d.hex()"
   ]
  },
  {
   "cell_type": "code",
   "execution_count": 23,
   "id": "8fa69eaf",
   "metadata": {},
   "outputs": [
    {
     "ename": "NameError",
     "evalue": "name 'd' is not defined",
     "output_type": "error",
     "traceback": [
      "\u001b[1;31m---------------------------------------------------------------------------\u001b[0m",
      "\u001b[1;31mNameError\u001b[0m                                 Traceback (most recent call last)",
      "\u001b[1;32m<ipython-input-23-16d3c61d71ec>\u001b[0m in \u001b[0;36m<module>\u001b[1;34m\u001b[0m\n\u001b[1;32m----> 1\u001b[1;33m \u001b[0mlen\u001b[0m\u001b[1;33m(\u001b[0m\u001b[0md\u001b[0m\u001b[1;33m.\u001b[0m\u001b[0mhex\u001b[0m\u001b[1;33m(\u001b[0m\u001b[1;33m)\u001b[0m\u001b[1;33m)\u001b[0m\u001b[1;33m\u001b[0m\u001b[1;33m\u001b[0m\u001b[0m\n\u001b[0m",
      "\u001b[1;31mNameError\u001b[0m: name 'd' is not defined"
     ]
    }
   ],
   "source": [
    "len(d.hex())"
   ]
  },
  {
   "cell_type": "code",
   "execution_count": 24,
   "id": "4f8abc17",
   "metadata": {},
   "outputs": [
    {
     "name": "stdout",
     "output_type": "stream",
     "text": [
      "Plain Text:  b'Real Madrid is the best club in the world'\n",
      "Encrypted Bytes: b'\\x06\\xa1m3\\xcb\\\\%\\xdc\\xf2/\\xafc.\\xa5a\\x9d6)\\x9c:\\xeb\\x93\\xa5\\x02\\x18\\x1f8\\x87(\\x0bq6N\\x1d \\xfd]\\x80z\\x15\\xa99\\xbc\\xf6\\xb7a\\xdd\\x15'\n",
      "Encrypted Base64: b'BqFtM8tcJdzyL69jLqVhnTYpnDrrk6UCGB84hygLcTZOHSD9XYB6Fak5vPa3Yd0V'\n",
      "Decrypted: b'Real Madrid is the best club in the world'\n"
     ]
    }
   ],
   "source": [
    "data = b\"Real Madrid is the best club in the world\"\n",
    "key=bytes.fromhex('524f445259474f53').decode('utf-8')\n",
    "IV=bytes.fromhex('0000000000000000')\n",
    "k = des(key, CBC, IV, pad=None, padmode=PAD_PKCS5)\n",
    "# For Python3, you'll need to use bytes, i.e.:\n",
    "#   data = b\"Please encrypt my data\"\n",
    "#   k = des(b\"DESCRYPT\", CBC, b\"\\0\\0\\0\\0\\0\\0\\0\\0\", pad=None, padmode=PAD_PKCS5)\n",
    "d = k.encrypt(data)\n",
    "print(f'Plain Text:  {data}')\n",
    "print(\"Encrypted Bytes: %r\" % d)\n",
    "print(\"Encrypted Base64: %r\" % base64.b64encode(d))\n",
    "print (\"Decrypted: %r\" % k.decrypt(d))\n",
    "#assert k.decrypt(d, padmode=PAD_PKCS5) == data"
   ]
  },
  {
   "cell_type": "code",
   "execution_count": null,
   "id": "2bd84f5b",
   "metadata": {},
   "outputs": [],
   "source": []
  },
  {
   "cell_type": "code",
   "execution_count": null,
   "id": "d1292892",
   "metadata": {},
   "outputs": [],
   "source": []
  },
  {
   "cell_type": "code",
   "execution_count": null,
   "id": "21ce8652",
   "metadata": {},
   "outputs": [],
   "source": []
  },
  {
   "cell_type": "markdown",
   "id": "61c1b5a8",
   "metadata": {},
   "source": [
    "#### _Note_\n",
    "> in pyDes library\n",
    "- The input and the output parameters are in Bytes representation\n",
    "\n",
    "> in Openssl\n",
    "- We write the parameters in Hexadecimal representation\n",
    "- when we add (-a), we produce the final output in Base64 representation\n",
    "\n",
    "> in the DES algorithm iself\n",
    "- it produces the outputs in Binary representation"
   ]
  },
  {
   "cell_type": "markdown",
   "id": "22110404",
   "metadata": {},
   "source": [
    "#### Conversion <font color=violet> (str) </font> to <font color=violet> (Hex) </font>"
   ]
  },
  {
   "cell_type": "code",
   "execution_count": 25,
   "id": "a9bcaaf1",
   "metadata": {},
   "outputs": [
    {
     "name": "stdout",
     "output_type": "stream",
     "text": [
      "524f445259474f53\n",
      "<class 'str'>\n",
      "b'RODRYGOS'\n",
      "<class 'bytes'>\n"
     ]
    }
   ],
   "source": [
    "#convert String to Hex\n",
    "print(('RODRYGOS'.encode('utf-8')).hex())\n",
    "print(type(('RODRYGOS'.encode('utf-8')).hex()))\n",
    "#convert Hex to Bytes\n",
    "print(bytes.fromhex('524f445259474f53'))\n",
    "print(type(bytes.fromhex('524f445259474f53')))"
   ]
  },
  {
   "cell_type": "markdown",
   "id": "665f3eaf",
   "metadata": {},
   "source": [
    "#### ELECTRONIC CODE BOOK MODE <font color=violet> (ECB) </font>"
   ]
  },
  {
   "cell_type": "code",
   "execution_count": 40,
   "id": "039a3513",
   "metadata": {},
   "outputs": [
    {
     "name": "stdout",
     "output_type": "stream",
     "text": [
      "Plain Text:  b'Real Madrid is the best club in the world'\n",
      "Encrypted Hex: '06a16d33cb5c25dc940d0813c8a1580ac1b9ce092801f388a968b13bf59d0944ab1ad1d8c69a0bde17d3762b54f71dfa'\n",
      "Encrypted Bytes: b'\\x06\\xa1m3\\xcb\\\\%\\xdc\\x94\\r\\x08\\x13\\xc8\\xa1X\\n\\xc1\\xb9\\xce\\t(\\x01\\xf3\\x88\\xa9h\\xb1;\\xf5\\x9d\\tD\\xab\\x1a\\xd1\\xd8\\xc6\\x9a\\x0b\\xde\\x17\\xd3v+T\\xf7\\x1d\\xfa'\n",
      "Encrypted Base64: b'BqFtM8tcJdyUDQgTyKFYCsG5zgkoAfOIqWixO/WdCUSrGtHYxpoL3hfTditU9x36'\n",
      "Decrypted: b'Real Madrid is the best club in the world'\n"
     ]
    }
   ],
   "source": [
    "#no need for IV in the ECB mode\n",
    "#with a 8-bytes key ('\\0'*8)\n",
    "data = b\"Real Madrid is the best club in the world\"\n",
    "key=bytes.fromhex('524f445259474f53')\n",
    "k = des(key, ECB, pad=None, padmode=PAD_PKCS5)\n",
    "d = k.encrypt(data)\n",
    "print(f'Plain Text:  {data}')\n",
    "print(\"Encrypted Hex: %r\" % d.hex())\n",
    "print(\"Encrypted Bytes: %r\" % d)\n",
    "print(\"Encrypted Base64: %r\" % base64.b64encode(d))\n",
    "print (\"Decrypted: %r\" % k.decrypt(d))\n",
    "assert k.decrypt(d, padmode=PAD_PKCS5) == data #data must be in Bytes"
   ]
  },
  {
   "cell_type": "markdown",
   "id": "f96667b5",
   "metadata": {},
   "source": [
    "#### CIPHER BLOCK CHAINING MODE <font color=violet> (CBC) </font>"
   ]
  },
  {
   "cell_type": "code",
   "execution_count": 41,
   "id": "fabd778c",
   "metadata": {},
   "outputs": [
    {
     "name": "stdout",
     "output_type": "stream",
     "text": [
      "Plain Text:  b'Real Madrid is the best club in the world'\n",
      "Encrypted Hex: '06a16d33cb5c25dcf22faf632ea5619d36299c3aeb93a502181f3887280b71364e1d20fd5d807a15a939bcf6b761dd15'\n",
      "Encrypted Bytes: b'\\x06\\xa1m3\\xcb\\\\%\\xdc\\xf2/\\xafc.\\xa5a\\x9d6)\\x9c:\\xeb\\x93\\xa5\\x02\\x18\\x1f8\\x87(\\x0bq6N\\x1d \\xfd]\\x80z\\x15\\xa99\\xbc\\xf6\\xb7a\\xdd\\x15'\n",
      "Encrypted Base64: b'BqFtM8tcJdzyL69jLqVhnTYpnDrrk6UCGB84hygLcTZOHSD9XYB6Fak5vPa3Yd0V'\n",
      "Decrypted: b'Real Madrid is the best club in the world'\n"
     ]
    }
   ],
   "source": [
    "#with a 8-bytes key ('\\0'*8)\n",
    "data = b\"Real Madrid is the best club in the world\"\n",
    "key=bytes.fromhex('524f445259474f53')\n",
    "IV=bytes.fromhex('0000000000000000')\n",
    "k = des(key, CBC, IV, pad=None, padmode=PAD_PKCS5)\n",
    "d = k.encrypt(data)\n",
    "print(f'Plain Text:  {data}')\n",
    "print(\"Encrypted Hex: %r\" % d.hex())\n",
    "print(\"Encrypted Bytes: %r\" % d)\n",
    "print(\"Encrypted Base64: %r\" % base64.b64encode(d))\n",
    "print (\"Decrypted: %r\" % k.decrypt(d))\n",
    "assert k.decrypt(d, padmode=PAD_PKCS5) == data "
   ]
  },
  {
   "cell_type": "markdown",
   "id": "7718fd85",
   "metadata": {},
   "source": [
    "***======================================================================================================================***\n",
    "## <center><font color=blue>files encryption</font><center>"
   ]
  },
  {
   "cell_type": "markdown",
   "id": "f3eaebd7",
   "metadata": {},
   "source": [
    "#### Encrypting a Text file <br> <font color=violet>_(ECB)_</font> *mode and 8 bytes key*"
   ]
  },
  {
   "cell_type": "code",
   "execution_count": 28,
   "id": "bf7ccea4",
   "metadata": {},
   "outputs": [],
   "source": [
    "key=bytes.fromhex('524f445259474f53')\n",
    "k = des(key, ECB, pad=None, padmode=PAD_PKCS5)\n",
    "with open('plaintext.txt', 'rb') as original_file:\n",
    "    original = original_file.read()\n",
    "\n",
    "encrypted = k.encrypt(original)\n",
    "\n",
    "with open ('ciphertxt.txt', 'wb') as encrypted_file:\n",
    "    encrypted_file.write(base64.b64encode(encrypted))"
   ]
  },
  {
   "cell_type": "markdown",
   "id": "2eff44dc",
   "metadata": {},
   "source": [
    "#### Decrypting a Text file <br> <font color=violet>_(ECB)_</font> *mode and 8 bytes key*"
   ]
  },
  {
   "cell_type": "code",
   "execution_count": 29,
   "id": "448e81bf",
   "metadata": {},
   "outputs": [],
   "source": [
    "key=bytes.fromhex('524f445259474f53')\n",
    "k = des(key, ECB, pad=None, padmode=PAD_PKCS5)\n",
    "with open('ciphertxt.txt', 'rb') as encrypted_file:\n",
    "    encrypted = encrypted_file.read()\n",
    "\n",
    "decrypted = k.decrypt(base64.b64decode(encrypted))\n",
    "\n",
    "with open('plaintext2.txt', 'wb') as decrypted_file:\n",
    "    decrypted_file.write(decrypted)"
   ]
  },
  {
   "cell_type": "markdown",
   "id": "7c382deb",
   "metadata": {},
   "source": [
    "----------------------------------------------------------\n",
    "----------------------------------------------------------"
   ]
  },
  {
   "cell_type": "markdown",
   "id": "5c0e6d6a",
   "metadata": {},
   "source": [
    "#### Encrypting a CSV file <br> <font color=violet>_(CBC)_</font> *mode and 8 bytes key and IV*"
   ]
  },
  {
   "cell_type": "code",
   "execution_count": 30,
   "id": "c1430dfe",
   "metadata": {},
   "outputs": [],
   "source": [
    "key=bytes.fromhex('524f445259474f53')\n",
    "IV=bytes.fromhex('0000000000000000')\n",
    "k = des(key, CBC, IV, pad=None, padmode=PAD_PKCS5)\n",
    "with open('plaintext.txt', 'rb') as original_file:\n",
    "    original = original_file.read()\n",
    "\n",
    "encrypted = k.encrypt(original)\n",
    "\n",
    "with open ('ciphertxtCBC.txt', 'wb') as encrypted_file:\n",
    "    encrypted_file.write(base64.b64encode(encrypted))"
   ]
  },
  {
   "cell_type": "markdown",
   "id": "b79f5cff",
   "metadata": {},
   "source": [
    "#### Decrypting a CSV file <br> <font color=violet>_(CBC)_</font> *mode and 8 bytes key and IV*"
   ]
  },
  {
   "cell_type": "code",
   "execution_count": 31,
   "id": "cc5538ad",
   "metadata": {},
   "outputs": [],
   "source": [
    "key=bytes.fromhex('524f445259474f53')\n",
    "IV=bytes.fromhex('0000000000000000')\n",
    "k = des(key, CBC, IV, pad=None, padmode=PAD_PKCS5)\n",
    "with open('ciphertxtCBC.txt', 'rb') as encrypted_file:\n",
    "    encrypted = encrypted_file.read()\n",
    "\n",
    "decrypted = k.decrypt(base64.b64decode(encrypted))\n",
    "\n",
    "with open('plaintext2CBC.txt', 'wb') as decrypted_file:\n",
    "    decrypted_file.write(decrypted)"
   ]
  },
  {
   "cell_type": "markdown",
   "id": "d045b1c0",
   "metadata": {},
   "source": [
    "# <center><font color = yellow> الحمد لله </font> <center>"
   ]
  },
  {
   "cell_type": "code",
   "execution_count": 45,
   "id": "459c3189",
   "metadata": {},
   "outputs": [
    {
     "name": "stdout",
     "output_type": "stream",
     "text": [
      "b'Hello homies'\n",
      "<class 'bytes'>\n"
     ]
    }
   ],
   "source": [
    "#note: the method convert the CSV file into one cell contain all the data the encrypt this one cell \n",
    "print(original)\n",
    "print(type(original))"
   ]
  },
  {
   "cell_type": "code",
   "execution_count": 35,
   "id": "f96d0309",
   "metadata": {},
   "outputs": [
    {
     "ename": "TypeError",
     "evalue": "'bytes' object cannot be interpreted as an integer",
     "output_type": "error",
     "traceback": [
      "\u001b[1;31m---------------------------------------------------------------------------\u001b[0m",
      "\u001b[1;31mTypeError\u001b[0m                                 Traceback (most recent call last)",
      "\u001b[1;32m<ipython-input-35-161dd156a266>\u001b[0m in \u001b[0;36m<module>\u001b[1;34m\u001b[0m\n\u001b[0;32m      1\u001b[0m \u001b[0mkey\u001b[0m\u001b[1;33m=\u001b[0m\u001b[0mbytes\u001b[0m\u001b[1;33m.\u001b[0m\u001b[0mfromhex\u001b[0m\u001b[1;33m(\u001b[0m\u001b[1;34m'524f445259474f53'\u001b[0m\u001b[1;33m)\u001b[0m\u001b[1;33m\u001b[0m\u001b[1;33m\u001b[0m\u001b[0m\n\u001b[0;32m      2\u001b[0m \u001b[0mprint\u001b[0m\u001b[1;33m\u001b[0m\u001b[1;33m\u001b[0m\u001b[0m\n\u001b[1;32m----> 3\u001b[1;33m \u001b[0mbin\u001b[0m\u001b[1;33m(\u001b[0m\u001b[0mkey\u001b[0m\u001b[1;33m)\u001b[0m\u001b[1;33m\u001b[0m\u001b[1;33m\u001b[0m\u001b[0m\n\u001b[0m",
      "\u001b[1;31mTypeError\u001b[0m: 'bytes' object cannot be interpreted as an integer"
     ]
    }
   ],
   "source": [
    "key=bytes.fromhex('524f445259474f53')\n",
    "print\n",
    "bin(key)"
   ]
  },
  {
   "cell_type": "code",
   "execution_count": null,
   "id": "de6fa099",
   "metadata": {},
   "outputs": [],
   "source": []
  }
 ],
 "metadata": {
  "kernelspec": {
   "display_name": "Python 3",
   "language": "python",
   "name": "python3"
  },
  "language_info": {
   "codemirror_mode": {
    "name": "ipython",
    "version": 3
   },
   "file_extension": ".py",
   "mimetype": "text/x-python",
   "name": "python",
   "nbconvert_exporter": "python",
   "pygments_lexer": "ipython3",
   "version": "3.8.8"
  }
 },
 "nbformat": 4,
 "nbformat_minor": 5
}
